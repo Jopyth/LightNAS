{
 "cells": [
  {
   "cell_type": "code",
   "execution_count": 1,
   "metadata": {},
   "outputs": [],
   "source": [
    "%load_ext autoreload\n",
    "%autoreload 2\n",
    "import sys\n",
    "sys.path.insert(0, \"../\")"
   ]
  },
  {
   "cell_type": "code",
   "execution_count": 2,
   "metadata": {},
   "outputs": [],
   "source": [
    "import math\n",
    "import pydot"
   ]
  },
  {
   "cell_type": "code",
   "execution_count": 3,
   "metadata": {},
   "outputs": [],
   "source": [
    "class Color:\n",
    "    def __init__(self, r=0, g=0, b=0):\n",
    "        self._r = Color.clamp(r)\n",
    "        self._g = Color.clamp(g)\n",
    "        self._b = Color.clamp(b)\n",
    "    def r(self):\n",
    "        return self._r\n",
    "    def g(self):\n",
    "        return self._g\n",
    "    def b(self):\n",
    "        return self._b\n",
    "    \n",
    "    def set_r(self, val):\n",
    "        self._r = Color.clamp(val)\n",
    "    def set_g(self, val):\n",
    "        self._g = Color.clamp(val)\n",
    "    def set_b(self, val):\n",
    "        self._b = Color.clamp(val)\n",
    "        \n",
    "    def as_hex(self):\n",
    "        return \"#{0:02x}{1:02x}{2:02x}\".format(self.r(), self.g(), self.b())\n",
    "    \n",
    "    @staticmethod\n",
    "    def mix(one, other, mix_fac=0.5):\n",
    "        assert((type(one) is Color) or (type(other) is Color))\n",
    "        if (one is None) or (type(one) is not Color):\n",
    "            return other\n",
    "        elif(other is None) or (type(other) is not Color):\n",
    "            return one\n",
    "        return Color(\n",
    "            r=Color.clamp(math.sqrt((1 - mix_fac) * math.pow(one.r(), 2) + mix_fac * math.pow(other.r(), 2))), \n",
    "            g=Color.clamp(math.sqrt((1 - mix_fac) * math.pow(one.g(), 2) + mix_fac * math.pow(other.g(), 2))), \n",
    "            b=Color.clamp(math.sqrt((1 - mix_fac) * math.pow(one.b(), 2) + mix_fac * math.pow(other.b(), 2)))\n",
    "        )\n",
    "    @staticmethod\n",
    "    def clamp(val): \n",
    "        return round(max(0, min(val, 255)))"
   ]
  },
  {
   "cell_type": "code",
   "execution_count": 4,
   "metadata": {},
   "outputs": [],
   "source": [
    "def load_dot_files(file_dir, prefix, max_epoch, min_epoch=0):\n",
    "    dots = []\n",
    "    for i in range(min_epoch, max_epoch+1):\n",
    "        dots.append(pydot.graph_from_dot_file(file_dir + prefix + str(i))[0])\n",
    "    return dots"
   ]
  },
  {
   "cell_type": "code",
   "execution_count": 23,
   "metadata": {},
   "outputs": [],
   "source": [
    "def format_node(node):\n",
    "    attributes = node.get_attributes()\n",
    "    new_color = None\n",
    "    if 'label' not in attributes:\n",
    "        return\n",
    "    if attributes['label'] == 'node':\n",
    "        return\n",
    "    # mix in the color for the skip attribute\n",
    "    if 'RTrue' in attributes['label']:\n",
    "        new_color = Color.mix(new_color, Color(r=50, g=255, b=50))\n",
    "    if 'RFalse' in attributes['label']:\n",
    "        new_color = Color.mix(new_color, Color(r=255, g=50, b=50))\n",
    "    # possibly mix in colors for additionally ENAS attributes\n",
    "    # ...\n",
    "    \n",
    "    # set the new color in the graph\n",
    "    if new_color:\n",
    "        node.set_color(new_color.as_hex())"
   ]
  },
  {
   "cell_type": "code",
   "execution_count": 14,
   "metadata": {},
   "outputs": [],
   "source": [
    "def format_graphs(graphs):\n",
    "    for graph in graphs:\n",
    "        node_list = graph.get_node_list()\n",
    "        for node in node_list:\n",
    "            format_node(node)"
   ]
  },
  {
   "cell_type": "code",
   "execution_count": 15,
   "metadata": {},
   "outputs": [],
   "source": [
    "def write_graphs_to_pdf(graphs, out_dir='./', prefix=''):\n",
    "    ctr = 0\n",
    "    for graph in graphs:\n",
    "        graph.write_pdf(out_dir + prefix + str(ctr) + '.pdf')\n",
    "        ctr += 1"
   ]
  },
  {
   "cell_type": "code",
   "execution_count": 24,
   "metadata": {},
   "outputs": [],
   "source": [
    "dot_file_dir = '../data/logs/meliusnet22/architectures/'\n",
    "graphs = load_dot_files(dot_file_dir, 'epoch_', min_epoch=0, max_epoch=2)\n",
    "format_graphs(graphs)"
   ]
  },
  {
   "cell_type": "code",
   "execution_count": 25,
   "metadata": {},
   "outputs": [],
   "source": [
    "write_graphs_to_pdf(graphs, prefix='test_graph_')"
   ]
  },
  {
   "cell_type": "code",
   "execution_count": 39,
   "metadata": {},
   "outputs": [],
   "source": [
    "red = Color(r=255)\n",
    "blue = Color(b=255)"
   ]
  },
  {
   "cell_type": "code",
   "execution_count": 45,
   "metadata": {},
   "outputs": [],
   "source": [
    "mixed = Color.mix(red, blue)"
   ]
  },
  {
   "cell_type": "code",
   "execution_count": 46,
   "metadata": {},
   "outputs": [
    {
     "name": "stdout",
     "output_type": "stream",
     "text": [
      "#b400b4\n"
     ]
    }
   ],
   "source": [
    "print(mixed.as_hex())"
   ]
  },
  {
   "cell_type": "code",
   "execution_count": 38,
   "metadata": {},
   "outputs": [
    {
     "data": {
      "text/plain": [
       "False"
      ]
     },
     "execution_count": 38,
     "metadata": {},
     "output_type": "execute_result"
    }
   ],
   "source": []
  },
  {
   "cell_type": "code",
   "execution_count": null,
   "metadata": {},
   "outputs": [],
   "source": []
  },
  {
   "cell_type": "code",
   "execution_count": null,
   "metadata": {},
   "outputs": [],
   "source": []
  },
  {
   "cell_type": "code",
   "execution_count": null,
   "metadata": {},
   "outputs": [],
   "source": []
  },
  {
   "cell_type": "code",
   "execution_count": null,
   "metadata": {},
   "outputs": [],
   "source": []
  },
  {
   "cell_type": "code",
   "execution_count": null,
   "metadata": {},
   "outputs": [],
   "source": []
  },
  {
   "cell_type": "code",
   "execution_count": null,
   "metadata": {},
   "outputs": [],
   "source": []
  }
 ],
 "metadata": {
  "kernelspec": {
   "display_name": "Python 3",
   "language": "python",
   "name": "python3"
  },
  "language_info": {
   "codemirror_mode": {
    "name": "ipython",
    "version": 3
   },
   "file_extension": ".py",
   "mimetype": "text/x-python",
   "name": "python",
   "nbconvert_exporter": "python",
   "pygments_lexer": "ipython3",
   "version": "3.6.9"
  }
 },
 "nbformat": 4,
 "nbformat_minor": 4
}
