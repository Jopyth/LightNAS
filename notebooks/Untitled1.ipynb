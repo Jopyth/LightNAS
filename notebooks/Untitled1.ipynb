{
 "cells": [
  {
   "cell_type": "code",
   "execution_count": 11,
   "metadata": {},
   "outputs": [
    {
     "name": "stdout",
     "output_type": "stream",
     "text": [
      "The autoreload extension is already loaded. To reload it, use:\n",
      "  %reload_ext autoreload\n"
     ]
    },
    {
     "name": "stderr",
     "output_type": "stream",
     "text": [
      "[autoreload of models.resnet_enas failed: Traceback (most recent call last):\n",
      "  File \"/home/tobias/virtualenv_environments/BmxNet/lib/python3.6/site-packages/IPython/extensions/autoreload.py\", line 245, in check\n",
      "    superreload(m, reload, self.old_objects)\n",
      "  File \"/home/tobias/virtualenv_environments/BmxNet/lib/python3.6/site-packages/IPython/extensions/autoreload.py\", line 410, in superreload\n",
      "    update_generic(old_obj, new_obj)\n",
      "  File \"/home/tobias/virtualenv_environments/BmxNet/lib/python3.6/site-packages/IPython/extensions/autoreload.py\", line 347, in update_generic\n",
      "    update(a, b)\n",
      "  File \"/home/tobias/virtualenv_environments/BmxNet/lib/python3.6/site-packages/IPython/extensions/autoreload.py\", line 302, in update_class\n",
      "    if update_generic(old_obj, new_obj): continue\n",
      "  File \"/home/tobias/virtualenv_environments/BmxNet/lib/python3.6/site-packages/IPython/extensions/autoreload.py\", line 347, in update_generic\n",
      "    update(a, b)\n",
      "  File \"/home/tobias/virtualenv_environments/BmxNet/lib/python3.6/site-packages/IPython/extensions/autoreload.py\", line 266, in update_function\n",
      "    setattr(old, name, getattr(new, name))\n",
      "ValueError: __init__() requires a code object with 1 free vars, not 5\n",
      "]\n"
     ]
    }
   ],
   "source": [
    "%load_ext autoreload\n",
    "%autoreload 2"
   ]
  },
  {
   "cell_type": "code",
   "execution_count": 15,
   "metadata": {},
   "outputs": [],
   "source": [
    "import sys\n",
    "sys.path.insert(0, \"../\")\n",
    "\n",
    "import autogluon as ag\n",
    "import mxnet as mx\n",
    "import mxnet.gluon.nn as nn\n",
    "import mxnet.ndarray as nd\n",
    "import mxnet.gluon as gluon\n",
    "from mxnet.gluon.nn import BinaryLayerConfig\n",
    "from mxnet.gluon import ParameterDict\n",
    "from mxnet import gpu"
   ]
  },
  {
   "cell_type": "code",
   "execution_count": 16,
   "metadata": {},
   "outputs": [],
   "source": [
    "from models.meliusnet_enas import ImprovementBlockEnas\n",
    "from models.resnet_enas import BasicBlockV1Enas\n",
    "from utils.binary_layers import *"
   ]
  },
  {
   "cell_type": "code",
   "execution_count": null,
   "metadata": {},
   "outputs": [],
   "source": []
  },
  {
   "cell_type": "code",
   "execution_count": 19,
   "metadata": {},
   "outputs": [],
   "source": [
    "a = nd.array((3,3))"
   ]
  },
  {
   "cell_type": "code",
   "execution_count": 23,
   "metadata": {},
   "outputs": [
    {
     "data": {
      "text/plain": [
       "numpy.float32"
      ]
     },
     "execution_count": 23,
     "metadata": {},
     "output_type": "execute_result"
    }
   ],
   "source": [
    "a.dtype"
   ]
  },
  {
   "cell_type": "code",
   "execution_count": 21,
   "metadata": {},
   "outputs": [
    {
     "data": {
      "text/plain": [
       "numpy.float32"
      ]
     },
     "execution_count": 21,
     "metadata": {},
     "output_type": "execute_result"
    }
   ],
   "source": [
    "a.det_sign().dtype"
   ]
  },
  {
   "cell_type": "code",
   "execution_count": 4,
   "metadata": {},
   "outputs": [],
   "source": [
    "block = BasicBlockV1Enas(2,1)\n",
    "para = block.body[0].qconv.params\n",
    "block.initialize()\n",
    "x = nd.random.uniform(shape=(1,1,8,8))\n",
    "y = block(x)"
   ]
  },
  {
   "cell_type": "code",
   "execution_count": 5,
   "metadata": {
    "scrolled": true
   },
   "outputs": [],
   "source": [
    "block2 = BasicBlockV1Enas(2,1, parameter_sharing_partner=block)\n",
    "para = block.body[0].qconv.params\n",
    "block2.initialize()\n",
    "x = nd.random.uniform(shape=(1,1,8,8))\n",
    "y = block2(x)"
   ]
  },
  {
   "cell_type": "code",
   "execution_count": 6,
   "metadata": {},
   "outputs": [
    {
     "data": {
      "text/plain": [
       "basicblockv1enas0_ (\n",
       "  Parameter basicblockv1enas0_qconv0_weight (shape=(2, 1, 3, 3), dtype=<class 'numpy.float32'>)\n",
       "  Parameter basicblockv1enas0_batchnorm0_gamma (shape=(2,), dtype=<class 'numpy.float32'>)\n",
       "  Parameter basicblockv1enas0_batchnorm0_beta (shape=(2,), dtype=<class 'numpy.float32'>)\n",
       "  Parameter basicblockv1enas0_batchnorm0_running_mean (shape=(2,), dtype=<class 'numpy.float32'>)\n",
       "  Parameter basicblockv1enas0_batchnorm0_running_var (shape=(2,), dtype=<class 'numpy.float32'>)\n",
       "  Parameter basicblockv1enas0_qconv1_weight (shape=(2, 2, 3, 3), dtype=<class 'numpy.float32'>)\n",
       "  Parameter basicblockv1enas0_batchnorm1_gamma (shape=(2,), dtype=<class 'numpy.float32'>)\n",
       "  Parameter basicblockv1enas0_batchnorm1_beta (shape=(2,), dtype=<class 'numpy.float32'>)\n",
       "  Parameter basicblockv1enas0_batchnorm1_running_mean (shape=(2,), dtype=<class 'numpy.float32'>)\n",
       "  Parameter basicblockv1enas0_batchnorm1_running_var (shape=(2,), dtype=<class 'numpy.float32'>)\n",
       ")"
      ]
     },
     "execution_count": 6,
     "metadata": {},
     "output_type": "execute_result"
    }
   ],
   "source": [
    "block.collect_params()"
   ]
  },
  {
   "cell_type": "code",
   "execution_count": 7,
   "metadata": {},
   "outputs": [
    {
     "data": {
      "text/plain": [
       "'basicblockv1enas0_'"
      ]
     },
     "execution_count": 7,
     "metadata": {},
     "output_type": "execute_result"
    }
   ],
   "source": [
    "block2.params.prefix"
   ]
  },
  {
   "cell_type": "code",
   "execution_count": 8,
   "metadata": {},
   "outputs": [
    {
     "data": {
      "text/plain": [
       "basicblockv1enas0_ (\n",
       "  Parameter basicblockv1enas0_qconv0_weight (shape=(2, 1, 3, 3), dtype=<class 'numpy.float32'>)\n",
       "  Parameter basicblockv1enas0_batchnorm0_gamma (shape=(2,), dtype=<class 'numpy.float32'>)\n",
       "  Parameter basicblockv1enas0_batchnorm0_beta (shape=(2,), dtype=<class 'numpy.float32'>)\n",
       "  Parameter basicblockv1enas0_batchnorm0_running_mean (shape=(2,), dtype=<class 'numpy.float32'>)\n",
       "  Parameter basicblockv1enas0_batchnorm0_running_var (shape=(2,), dtype=<class 'numpy.float32'>)\n",
       "  Parameter basicblockv1enas0_qconv1_weight (shape=(2, 2, 3, 3), dtype=<class 'numpy.float32'>)\n",
       "  Parameter basicblockv1enas0_batchnorm1_gamma (shape=(2,), dtype=<class 'numpy.float32'>)\n",
       "  Parameter basicblockv1enas0_batchnorm1_beta (shape=(2,), dtype=<class 'numpy.float32'>)\n",
       "  Parameter basicblockv1enas0_batchnorm1_running_mean (shape=(2,), dtype=<class 'numpy.float32'>)\n",
       "  Parameter basicblockv1enas0_batchnorm1_running_var (shape=(2,), dtype=<class 'numpy.float32'>)\n",
       ")"
      ]
     },
     "execution_count": 8,
     "metadata": {},
     "output_type": "execute_result"
    }
   ],
   "source": [
    "block2.collect_params()"
   ]
  },
  {
   "cell_type": "code",
   "execution_count": 10,
   "metadata": {},
   "outputs": [
    {
     "data": {
      "text/plain": [
       "True"
      ]
     },
     "execution_count": 10,
     "metadata": {},
     "output_type": "execute_result"
    }
   ],
   "source": [
    "block2.collect_params().get('qconv0_weight').data() is block.collect_params().get('qconv0_weight').data()"
   ]
  },
  {
   "cell_type": "code",
   "execution_count": 10,
   "metadata": {},
   "outputs": [
    {
     "data": {
      "text/plain": [
       "basicblockv1enas0_qconv0_ (\n",
       "  Parameter basicblockv1enas0_qconv0_weight (shape=(2, 1, 3, 3), dtype=<class 'numpy.float32'>)\n",
       ")"
      ]
     },
     "execution_count": 10,
     "metadata": {},
     "output_type": "execute_result"
    }
   ],
   "source": [
    "block2.body[0].qconv.params"
   ]
  },
  {
   "cell_type": "code",
   "execution_count": 13,
   "metadata": {},
   "outputs": [
    {
     "data": {
      "text/plain": [
       "basicblockv1enas0_qconv0_ (\n",
       "  Parameter basicblockv1enas0_qconv0_weight (shape=(2, 1, 3, 3), dtype=<class 'numpy.float32'>)\n",
       ")"
      ]
     },
     "execution_count": 13,
     "metadata": {},
     "output_type": "execute_result"
    }
   ],
   "source": [
    "block2.body[0].qconv.params"
   ]
  },
  {
   "cell_type": "code",
   "execution_count": 25,
   "metadata": {},
   "outputs": [
    {
     "data": {
      "text/plain": [
       "\n",
       "[[[[ 0.00982754 -0.06462044 -0.00859579]\n",
       "   [ 0.01879837  0.06837233  0.0642529 ]\n",
       "   [-0.05571373  0.02139064 -0.04075725]]]\n",
       "\n",
       "\n",
       " [[[ 0.01890824 -0.04741667  0.06934194]\n",
       "   [ 0.02143516  0.01145905 -0.03453917]\n",
       "   [-0.0119884  -0.00471649 -0.00354235]]]]\n",
       "<NDArray 2x1x3x3 @cpu(0)>"
      ]
     },
     "execution_count": 25,
     "metadata": {},
     "output_type": "execute_result"
    }
   ],
   "source": [
    "block2.body[0].qconv.params.get('weight').data()"
   ]
  },
  {
   "cell_type": "code",
   "execution_count": 18,
   "metadata": {},
   "outputs": [
    {
     "data": {
      "text/plain": [
       "\n",
       "[[[[ 0.00982754 -0.06462044 -0.00859579]\n",
       "   [ 0.01879837  0.06837233  0.0642529 ]\n",
       "   [-0.05571373  0.02139064 -0.04075725]]]\n",
       "\n",
       "\n",
       " [[[ 0.01890824 -0.04741667  0.06934194]\n",
       "   [ 0.02143516  0.01145905 -0.03453917]\n",
       "   [-0.0119884  -0.00471649 -0.00354235]]]]\n",
       "<NDArray 2x1x3x3 @cpu(0)>"
      ]
     },
     "execution_count": 18,
     "metadata": {},
     "output_type": "execute_result"
    }
   ],
   "source": [
    "block2.collect_params()['basicblockv1enas0_qconv0_weight'].data()"
   ]
  },
  {
   "cell_type": "code",
   "execution_count": 21,
   "metadata": {},
   "outputs": [
    {
     "ename": "AttributeError",
     "evalue": "'BinaryConvolution' object has no attribute 'deconv'",
     "output_type": "error",
     "traceback": [
      "\u001b[0;31m---------------------------------------------------------------------------\u001b[0m",
      "\u001b[0;31mAttributeError\u001b[0m                            Traceback (most recent call last)",
      "\u001b[0;32m<ipython-input-21-a5994103a125>\u001b[0m in \u001b[0;36m<module>\u001b[0;34m\u001b[0m\n\u001b[0;32m----> 1\u001b[0;31m \u001b[0mblock2\u001b[0m\u001b[0;34m.\u001b[0m\u001b[0mbody\u001b[0m\u001b[0;34m[\u001b[0m\u001b[0;36m0\u001b[0m\u001b[0;34m]\u001b[0m\u001b[0;34m.\u001b[0m\u001b[0mdeconv\u001b[0m\u001b[0;34m.\u001b[0m\u001b[0mparams\u001b[0m\u001b[0;34m.\u001b[0m\u001b[0mget\u001b[0m\u001b[0;34m[\u001b[0m\u001b[0;34m'weight'\u001b[0m\u001b[0;34m]\u001b[0m\u001b[0;34m.\u001b[0m\u001b[0mdata\u001b[0m\u001b[0;34m(\u001b[0m\u001b[0;34m)\u001b[0m \u001b[0;32mis\u001b[0m \u001b[0mblock\u001b[0m\u001b[0;34m.\u001b[0m\u001b[0mcollect_params\u001b[0m\u001b[0;34m(\u001b[0m\u001b[0;34m)\u001b[0m\u001b[0;34m.\u001b[0m\u001b[0mget\u001b[0m\u001b[0;34m(\u001b[0m\u001b[0;34m'qconv0_weight'\u001b[0m\u001b[0;34m)\u001b[0m\u001b[0;34m.\u001b[0m\u001b[0mdata\u001b[0m\u001b[0;34m(\u001b[0m\u001b[0;34m)\u001b[0m\u001b[0;34m\u001b[0m\u001b[0;34m\u001b[0m\u001b[0m\n\u001b[0m",
      "\u001b[0;31mAttributeError\u001b[0m: 'BinaryConvolution' object has no attribute 'deconv'"
     ]
    }
   ],
   "source": [
    "block2.body[0].deconv.params.get['weight'].data() is block.collect_params().get('qconv0_weight').data()"
   ]
  },
  {
   "cell_type": "code",
   "execution_count": 138,
   "metadata": {},
   "outputs": [
    {
     "data": {
      "text/plain": [
       "\n",
       "[[[[ 0.03603098  0.01036446 -0.02595974]\n",
       "   [ 0.06229289  0.02202464  0.00836839]\n",
       "   [ 0.00242565  0.00905331 -0.00210481]]]\n",
       "\n",
       "\n",
       " [[[-0.06283614  0.0561627  -0.05542897]\n",
       "   [ 0.00765031  0.01602133  0.04576063]\n",
       "   [ 0.03242872  0.0315803  -0.03583546]]]]\n",
       "<NDArray 2x1x3x3 @cpu(0)>"
      ]
     },
     "execution_count": 138,
     "metadata": {},
     "output_type": "execute_result"
    }
   ],
   "source": [
    "block2.conv1_weights.get('weight').data()"
   ]
  },
  {
   "cell_type": "code",
   "execution_count": null,
   "metadata": {},
   "outputs": [],
   "source": []
  },
  {
   "cell_type": "code",
   "execution_count": null,
   "metadata": {},
   "outputs": [],
   "source": []
  },
  {
   "cell_type": "code",
   "execution_count": 110,
   "metadata": {},
   "outputs": [
    {
     "data": {
      "text/plain": [
       "basicblockv1enas10_qconv0_ (\n",
       "  Parameter basicblockv1enas10_qconv0_weight (shape=(2, 1, 3, 3), dtype=<class 'numpy.float32'>)\n",
       ")"
      ]
     },
     "execution_count": 110,
     "metadata": {},
     "output_type": "execute_result"
    }
   ],
   "source": [
    "bconv.params"
   ]
  },
  {
   "cell_type": "code",
   "execution_count": 114,
   "metadata": {},
   "outputs": [
    {
     "data": {
      "text/plain": [
       "True"
      ]
     },
     "execution_count": 114,
     "metadata": {},
     "output_type": "execute_result"
    }
   ],
   "source": [
    "bconv.params.get('weight').data() is para.get('weight').data()"
   ]
  },
  {
   "cell_type": "code",
   "execution_count": 81,
   "metadata": {},
   "outputs": [],
   "source": [
    "bconv.initialize()\n",
    "y = tmp(x)"
   ]
  },
  {
   "cell_type": "code",
   "execution_count": 87,
   "metadata": {},
   "outputs": [
    {
     "data": {
      "text/plain": [
       "numpy.float32"
      ]
     },
     "execution_count": 87,
     "metadata": {},
     "output_type": "execute_result"
    }
   ],
   "source": [
    "bconv.params.get('weight').data().dtype"
   ]
  },
  {
   "cell_type": "code",
   "execution_count": 66,
   "metadata": {},
   "outputs": [
    {
     "data": {
      "text/plain": [
       "False"
      ]
     },
     "execution_count": 66,
     "metadata": {},
     "output_type": "execute_result"
    }
   ],
   "source": [
    "bconv.params.get('weight').data()[0] is block.collect_params().get('qconv0_weight').data()[0]"
   ]
  },
  {
   "cell_type": "code",
   "execution_count": null,
   "metadata": {},
   "outputs": [],
   "source": []
  },
  {
   "cell_type": "code",
   "execution_count": 121,
   "metadata": {},
   "outputs": [
    {
     "data": {
      "text/plain": [
       "odict_items"
      ]
     },
     "execution_count": 121,
     "metadata": {},
     "output_type": "execute_result"
    }
   ],
   "source": [
    "type(bconv.params.items())"
   ]
  },
  {
   "cell_type": "code",
   "execution_count": 115,
   "metadata": {},
   "outputs": [],
   "source": [
    "new_dict = ParameterDict()"
   ]
  },
  {
   "cell_type": "code",
   "execution_count": 120,
   "metadata": {},
   "outputs": [
    {
     "ename": "TypeError",
     "evalue": "'odict_items' object does not support indexing",
     "output_type": "error",
     "traceback": [
      "\u001b[0;31m---------------------------------------------------------------------------\u001b[0m",
      "\u001b[0;31mTypeError\u001b[0m                                 Traceback (most recent call last)",
      "\u001b[0;32m<ipython-input-120-a54c9df7aac9>\u001b[0m in \u001b[0;36m<module>\u001b[0;34m\u001b[0m\n\u001b[0;32m----> 1\u001b[0;31m \u001b[0mnew_dict\u001b[0m\u001b[0;34m.\u001b[0m\u001b[0mitems\u001b[0m\u001b[0;34m(\u001b[0m\u001b[0;34m)\u001b[0m\u001b[0;34m[\u001b[0m\u001b[0;36m0\u001b[0m\u001b[0;34m]\u001b[0m\u001b[0;34m[\u001b[0m\u001b[0;36m1\u001b[0m\u001b[0;34m]\u001b[0m \u001b[0;34m=\u001b[0m \u001b[0mbconv\u001b[0m\u001b[0;34m.\u001b[0m\u001b[0mparams\u001b[0m\u001b[0;34m.\u001b[0m\u001b[0mget\u001b[0m\u001b[0;34m(\u001b[0m\u001b[0;34m'weight'\u001b[0m\u001b[0;34m)\u001b[0m\u001b[0;34m\u001b[0m\u001b[0;34m\u001b[0m\u001b[0m\n\u001b[0m",
      "\u001b[0;31mTypeError\u001b[0m: 'odict_items' object does not support indexing"
     ]
    }
   ],
   "source": [
    "new_dict.items()[0][1] = bconv.params.get('weight')"
   ]
  },
  {
   "cell_type": "code",
   "execution_count": 7,
   "metadata": {},
   "outputs": [
    {
     "ename": "AttributeError",
     "evalue": "'BinaryConvolution' object has no attribute 'weight'",
     "output_type": "error",
     "traceback": [
      "\u001b[0;31m---------------------------------------------------------------------------\u001b[0m",
      "\u001b[0;31mAttributeError\u001b[0m                            Traceback (most recent call last)",
      "\u001b[0;32m<ipython-input-7-ee83fe853182>\u001b[0m in \u001b[0;36m<module>\u001b[0;34m\u001b[0m\n\u001b[0;32m----> 1\u001b[0;31m \u001b[0mibe\u001b[0m \u001b[0;34m=\u001b[0m \u001b[0mImprovementBlockEnas\u001b[0m\u001b[0;34m(\u001b[0m\u001b[0;36m64\u001b[0m\u001b[0;34m,\u001b[0m\u001b[0;36m64\u001b[0m\u001b[0;34m)\u001b[0m\u001b[0;34m\u001b[0m\u001b[0;34m\u001b[0m\u001b[0m\n\u001b[0m",
      "\u001b[0;32m/media/tobias/data/github/LightNAS/models/meliusnet_enas.py\u001b[0m in \u001b[0;36m__init__\u001b[0;34m(self, channels, in_channels, replace_by_skip_connection, dilation, **kwargs)\u001b[0m\n\u001b[1;32m     47\u001b[0m                                             padding=dilation, in_channels=in_channels, dilation=dilation))\n\u001b[1;32m     48\u001b[0m \u001b[0;34m\u001b[0m\u001b[0m\n\u001b[0;32m---> 49\u001b[0;31m             \u001b[0mself\u001b[0m\u001b[0;34m.\u001b[0m\u001b[0mweight\u001b[0m \u001b[0;34m=\u001b[0m \u001b[0mself\u001b[0m\u001b[0;34m.\u001b[0m\u001b[0mbody\u001b[0m\u001b[0;34m[\u001b[0m\u001b[0;36m1\u001b[0m\u001b[0;34m]\u001b[0m\u001b[0;34m.\u001b[0m\u001b[0mweight\u001b[0m\u001b[0;34m\u001b[0m\u001b[0;34m\u001b[0m\u001b[0m\n\u001b[0m\u001b[1;32m     50\u001b[0m \u001b[0;34m\u001b[0m\u001b[0m\n\u001b[1;32m     51\u001b[0m \u001b[0;34m\u001b[0m\u001b[0m\n",
      "\u001b[0;31mAttributeError\u001b[0m: 'BinaryConvolution' object has no attribute 'weight'"
     ]
    }
   ],
   "source": [
    "ibe = ImprovementBlockEnas(64,64)"
   ]
  },
  {
   "cell_type": "code",
   "execution_count": 41,
   "metadata": {},
   "outputs": [
    {
     "data": {
      "text/plain": [
       "improvementblockenas4_ (\n",
       "  Parameter batchnorm4_gamma (shape=(0,), dtype=<class 'numpy.float32'>)\n",
       "  Parameter batchnorm4_beta (shape=(0,), dtype=<class 'numpy.float32'>)\n",
       "  Parameter batchnorm4_running_mean (shape=(0,), dtype=<class 'numpy.float32'>)\n",
       "  Parameter batchnorm4_running_var (shape=(0,), dtype=<class 'numpy.float32'>)\n",
       "  Parameter qconv4_weight (shape=(64, 64, 3, 3), dtype=<class 'numpy.float32'>)\n",
       ")"
      ]
     },
     "execution_count": 41,
     "metadata": {},
     "output_type": "execute_result"
    }
   ],
   "source": [
    "ibe.collect_params()"
   ]
  },
  {
   "cell_type": "code",
   "execution_count": 42,
   "metadata": {},
   "outputs": [],
   "source": [
    "ibe2 = ImprovementBlockEnas(64,64, params=ibe.collect_params())"
   ]
  },
  {
   "cell_type": "code",
   "execution_count": 43,
   "metadata": {},
   "outputs": [
    {
     "data": {
      "text/plain": [
       "improvementblockenas4_ (\n",
       "  Parameter batchnorm5_gamma (shape=(0,), dtype=<class 'numpy.float32'>)\n",
       "  Parameter batchnorm5_beta (shape=(0,), dtype=<class 'numpy.float32'>)\n",
       "  Parameter batchnorm5_running_mean (shape=(0,), dtype=<class 'numpy.float32'>)\n",
       "  Parameter batchnorm5_running_var (shape=(0,), dtype=<class 'numpy.float32'>)\n",
       "  Parameter qconv5_weight (shape=(64, 64, 3, 3), dtype=<class 'numpy.float32'>)\n",
       ")"
      ]
     },
     "execution_count": 43,
     "metadata": {},
     "output_type": "execute_result"
    }
   ],
   "source": [
    "ibe2.collect_params()"
   ]
  },
  {
   "cell_type": "code",
   "execution_count": 55,
   "metadata": {},
   "outputs": [
    {
     "data": {
      "text/plain": [
       "\n",
       "[[[[0. 0. 0.]\n",
       "   [0. 0. 0.]\n",
       "   [0. 0. 0.]]\n",
       "\n",
       "  [[0. 0. 0.]\n",
       "   [0. 0. 0.]\n",
       "   [0. 0. 0.]]\n",
       "\n",
       "  [[0. 0. 0.]\n",
       "   [0. 0. 0.]\n",
       "   [0. 0. 0.]]\n",
       "\n",
       "  ...\n",
       "\n",
       "  [[0. 0. 0.]\n",
       "   [0. 0. 0.]\n",
       "   [0. 0. 0.]]\n",
       "\n",
       "  [[0. 0. 0.]\n",
       "   [0. 0. 0.]\n",
       "   [0. 0. 0.]]\n",
       "\n",
       "  [[0. 0. 0.]\n",
       "   [0. 0. 0.]\n",
       "   [0. 0. 0.]]]\n",
       "\n",
       "\n",
       " [[[0. 0. 0.]\n",
       "   [0. 0. 0.]\n",
       "   [0. 0. 0.]]\n",
       "\n",
       "  [[0. 0. 0.]\n",
       "   [0. 0. 0.]\n",
       "   [0. 0. 0.]]\n",
       "\n",
       "  [[0. 0. 0.]\n",
       "   [0. 0. 0.]\n",
       "   [0. 0. 0.]]\n",
       "\n",
       "  ...\n",
       "\n",
       "  [[0. 0. 0.]\n",
       "   [0. 0. 0.]\n",
       "   [0. 0. 0.]]\n",
       "\n",
       "  [[0. 0. 0.]\n",
       "   [0. 0. 0.]\n",
       "   [0. 0. 0.]]\n",
       "\n",
       "  [[0. 0. 0.]\n",
       "   [0. 0. 0.]\n",
       "   [0. 0. 0.]]]\n",
       "\n",
       "\n",
       " [[[0. 0. 0.]\n",
       "   [0. 0. 0.]\n",
       "   [0. 0. 0.]]\n",
       "\n",
       "  [[0. 0. 0.]\n",
       "   [0. 0. 0.]\n",
       "   [0. 0. 0.]]\n",
       "\n",
       "  [[0. 0. 0.]\n",
       "   [0. 0. 0.]\n",
       "   [0. 0. 0.]]\n",
       "\n",
       "  ...\n",
       "\n",
       "  [[0. 0. 0.]\n",
       "   [0. 0. 0.]\n",
       "   [0. 0. 0.]]\n",
       "\n",
       "  [[0. 0. 0.]\n",
       "   [0. 0. 0.]\n",
       "   [0. 0. 0.]]\n",
       "\n",
       "  [[0. 0. 0.]\n",
       "   [0. 0. 0.]\n",
       "   [0. 0. 0.]]]\n",
       "\n",
       "\n",
       " ...\n",
       "\n",
       "\n",
       " [[[0. 0. 0.]\n",
       "   [0. 0. 0.]\n",
       "   [0. 0. 0.]]\n",
       "\n",
       "  [[0. 0. 0.]\n",
       "   [0. 0. 0.]\n",
       "   [0. 0. 0.]]\n",
       "\n",
       "  [[0. 0. 0.]\n",
       "   [0. 0. 0.]\n",
       "   [0. 0. 0.]]\n",
       "\n",
       "  ...\n",
       "\n",
       "  [[0. 0. 0.]\n",
       "   [0. 0. 0.]\n",
       "   [0. 0. 0.]]\n",
       "\n",
       "  [[0. 0. 0.]\n",
       "   [0. 0. 0.]\n",
       "   [0. 0. 0.]]\n",
       "\n",
       "  [[0. 0. 0.]\n",
       "   [0. 0. 0.]\n",
       "   [0. 0. 0.]]]\n",
       "\n",
       "\n",
       " [[[0. 0. 0.]\n",
       "   [0. 0. 0.]\n",
       "   [0. 0. 0.]]\n",
       "\n",
       "  [[0. 0. 0.]\n",
       "   [0. 0. 0.]\n",
       "   [0. 0. 0.]]\n",
       "\n",
       "  [[0. 0. 0.]\n",
       "   [0. 0. 0.]\n",
       "   [0. 0. 0.]]\n",
       "\n",
       "  ...\n",
       "\n",
       "  [[0. 0. 0.]\n",
       "   [0. 0. 0.]\n",
       "   [0. 0. 0.]]\n",
       "\n",
       "  [[0. 0. 0.]\n",
       "   [0. 0. 0.]\n",
       "   [0. 0. 0.]]\n",
       "\n",
       "  [[0. 0. 0.]\n",
       "   [0. 0. 0.]\n",
       "   [0. 0. 0.]]]\n",
       "\n",
       "\n",
       " [[[0. 0. 0.]\n",
       "   [0. 0. 0.]\n",
       "   [0. 0. 0.]]\n",
       "\n",
       "  [[0. 0. 0.]\n",
       "   [0. 0. 0.]\n",
       "   [0. 0. 0.]]\n",
       "\n",
       "  [[0. 0. 0.]\n",
       "   [0. 0. 0.]\n",
       "   [0. 0. 0.]]\n",
       "\n",
       "  ...\n",
       "\n",
       "  [[0. 0. 0.]\n",
       "   [0. 0. 0.]\n",
       "   [0. 0. 0.]]\n",
       "\n",
       "  [[0. 0. 0.]\n",
       "   [0. 0. 0.]\n",
       "   [0. 0. 0.]]\n",
       "\n",
       "  [[0. 0. 0.]\n",
       "   [0. 0. 0.]\n",
       "   [0. 0. 0.]]]]\n",
       "<NDArray 64x64x3x3 @cpu(0)>"
      ]
     },
     "execution_count": 55,
     "metadata": {},
     "output_type": "execute_result"
    }
   ],
   "source": [
    "ibe.collect_params('.*weight')['qconv4_weight'].data() == ibe2.collect_params('.*weight')['qconv5_weight'].data()"
   ]
  },
  {
   "cell_type": "code",
   "execution_count": 38,
   "metadata": {},
   "outputs": [
    {
     "data": {
      "text/plain": [
       "(64, 64, 3, 3)"
      ]
     },
     "execution_count": 38,
     "metadata": {},
     "output_type": "execute_result"
    }
   ],
   "source": [
    "ibe.collect_params('.*weight')['qconv0_weight'].data().shape"
   ]
  },
  {
   "cell_type": "code",
   "execution_count": 50,
   "metadata": {},
   "outputs": [],
   "source": [
    "seq = nn.HybridSequential()\n",
    "seq.add(ibe)\n",
    "seq.add(ibe2)"
   ]
  },
  {
   "cell_type": "code",
   "execution_count": 51,
   "metadata": {},
   "outputs": [],
   "source": [
    "seq.initialize()"
   ]
  },
  {
   "cell_type": "code",
   "execution_count": 49,
   "metadata": {},
   "outputs": [
    {
     "ename": "TypeError",
     "evalue": "hybridize() missing 1 required positional argument: 'self'",
     "output_type": "error",
     "traceback": [
      "\u001b[0;31m---------------------------------------------------------------------------\u001b[0m",
      "\u001b[0;31mTypeError\u001b[0m                                 Traceback (most recent call last)",
      "\u001b[0;32m<ipython-input-49-accae62ef8c0>\u001b[0m in \u001b[0;36m<module>\u001b[0;34m\u001b[0m\n\u001b[0;32m----> 1\u001b[0;31m \u001b[0mseq\u001b[0m\u001b[0;34m.\u001b[0m\u001b[0mhybridize\u001b[0m\u001b[0;34m(\u001b[0m\u001b[0;34m)\u001b[0m\u001b[0;34m\u001b[0m\u001b[0;34m\u001b[0m\u001b[0m\n\u001b[0m",
      "\u001b[0;31mTypeError\u001b[0m: hybridize() missing 1 required positional argument: 'self'"
     ]
    }
   ],
   "source": [
    "seq.hybridize()"
   ]
  },
  {
   "cell_type": "code",
   "execution_count": null,
   "metadata": {},
   "outputs": [],
   "source": []
  },
  {
   "cell_type": "code",
   "execution_count": null,
   "metadata": {},
   "outputs": [],
   "source": []
  },
  {
   "cell_type": "code",
   "execution_count": null,
   "metadata": {},
   "outputs": [],
   "source": []
  },
  {
   "cell_type": "code",
   "execution_count": 57,
   "metadata": {},
   "outputs": [
    {
     "name": "stdout",
     "output_type": "stream",
     "text": [
      "True\n",
      "\n",
      "[1. 1. 1. 1. 1. 1. 1. 1.]\n",
      "<NDArray 8 @cpu(0)>\n"
     ]
    }
   ],
   "source": [
    "net = nn.Sequential()\n",
    "# We need to give the shared layer a name such that we can reference\n",
    "# its parameters\n",
    "shared = nn.Dense(8, activation='relu')\n",
    "net.add(nn.Dense(8, activation='relu'),\n",
    "        shared,\n",
    "        nn.Dense(8, activation='relu', params=shared.params),\n",
    "        nn.Dense(10))\n",
    "net.initialize()\n",
    "\n",
    "x = nd.random.uniform(shape=(2, 20))\n",
    "net(x)\n",
    "\n",
    "# Check whether the parameters are the same\n",
    "print(net[1].weight.data() is net[2].weight.data())\n",
    "net[1].weight.data()[0,0] = 100\n",
    "# And make sure that they're actually the same object rather\n",
    "# than just having the same value\n",
    "print(net[1].weight.data()[0] == net[2].weight.data()[0])"
   ]
  },
  {
   "cell_type": "code",
   "execution_count": 58,
   "metadata": {},
   "outputs": [
    {
     "data": {
      "text/plain": [
       "dense5_ (\n",
       "  Parameter dense5_weight (shape=(8, 20), dtype=float32)\n",
       "  Parameter dense5_bias (shape=(8,), dtype=float32)\n",
       ")"
      ]
     },
     "execution_count": 58,
     "metadata": {},
     "output_type": "execute_result"
    }
   ],
   "source": [
    "net[0].collect_params()"
   ]
  },
  {
   "cell_type": "code",
   "execution_count": 62,
   "metadata": {},
   "outputs": [
    {
     "data": {
      "text/plain": [
       "dense4_ (\n",
       "  Parameter dense4_weight (shape=(8, 8), dtype=float32)\n",
       "  Parameter dense4_bias (shape=(8,), dtype=float32)\n",
       ")"
      ]
     },
     "execution_count": 62,
     "metadata": {},
     "output_type": "execute_result"
    }
   ],
   "source": [
    "net[2].collect_params()"
   ]
  },
  {
   "cell_type": "code",
   "execution_count": null,
   "metadata": {},
   "outputs": [],
   "source": []
  }
 ],
 "metadata": {
  "kernelspec": {
   "display_name": "Python 3",
   "language": "python",
   "name": "python3"
  },
  "language_info": {
   "codemirror_mode": {
    "name": "ipython",
    "version": 3
   },
   "file_extension": ".py",
   "mimetype": "text/x-python",
   "name": "python",
   "nbconvert_exporter": "python",
   "pygments_lexer": "ipython3",
   "version": "3.6.9"
  }
 },
 "nbformat": 4,
 "nbformat_minor": 4
}
