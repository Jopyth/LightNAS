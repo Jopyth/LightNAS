{
 "cells": [
  {
   "cell_type": "code",
   "execution_count": 13,
   "metadata": {},
   "outputs": [
    {
     "name": "stdout",
     "output_type": "stream",
     "text": [
      "The autoreload extension is already loaded. To reload it, use:\n",
      "  %reload_ext autoreload\n"
     ]
    }
   ],
   "source": [
    "%load_ext autoreload\n",
    "%autoreload 2"
   ]
  },
  {
   "cell_type": "code",
   "execution_count": 14,
   "metadata": {},
   "outputs": [],
   "source": [
    "import sys\n",
    "sys.path.insert(0, \"../\")\n",
    "\n",
    "import autogluon as ag\n",
    "import mxnet as mx\n",
    "import mxnet.gluon.nn as nn\n",
    "import mxnet.ndarray as nd\n",
    "import mxnet.gluon as gluon"
   ]
  },
  {
   "cell_type": "code",
   "execution_count": 15,
   "metadata": {},
   "outputs": [],
   "source": [
    "from models.meliusnet_enas import ImprovementBlockEnas"
   ]
  },
  {
   "cell_type": "code",
   "execution_count": 18,
   "metadata": {},
   "outputs": [],
   "source": [
    "ibe = ImprovementBlockEnas(64,64)"
   ]
  },
  {
   "cell_type": "code",
   "execution_count": 19,
   "metadata": {},
   "outputs": [
    {
     "data": {
      "text/plain": [
       "improvementblockenas7_ (\n",
       "  Parameter batchnorm7_gamma (shape=(0,), dtype=<class 'numpy.float32'>)\n",
       "  Parameter batchnorm7_beta (shape=(0,), dtype=<class 'numpy.float32'>)\n",
       "  Parameter batchnorm7_running_mean (shape=(0,), dtype=<class 'numpy.float32'>)\n",
       "  Parameter batchnorm7_running_var (shape=(0,), dtype=<class 'numpy.float32'>)\n",
       "  Parameter qconv7_weight (shape=(64, 64, 3, 3), dtype=<class 'numpy.float32'>)\n",
       ")"
      ]
     },
     "execution_count": 19,
     "metadata": {},
     "output_type": "execute_result"
    }
   ],
   "source": [
    "ibe.collect_params()"
   ]
  },
  {
   "cell_type": "code",
   "execution_count": 21,
   "metadata": {},
   "outputs": [],
   "source": [
    "ibe2 = ImprovementBlockEnas(64,64, params = ibe.collect_params())"
   ]
  },
  {
   "cell_type": "code",
   "execution_count": 22,
   "metadata": {},
   "outputs": [
    {
     "data": {
      "text/plain": [
       "improvementblockenas7_ (\n",
       "  Parameter batchnorm9_gamma (shape=(0,), dtype=<class 'numpy.float32'>)\n",
       "  Parameter batchnorm9_beta (shape=(0,), dtype=<class 'numpy.float32'>)\n",
       "  Parameter batchnorm9_running_mean (shape=(0,), dtype=<class 'numpy.float32'>)\n",
       "  Parameter batchnorm9_running_var (shape=(0,), dtype=<class 'numpy.float32'>)\n",
       "  Parameter qconv9_weight (shape=(64, 64, 3, 3), dtype=<class 'numpy.float32'>)\n",
       ")"
      ]
     },
     "execution_count": 22,
     "metadata": {},
     "output_type": "execute_result"
    }
   ],
   "source": [
    "ibe2.collect_params()"
   ]
  },
  {
   "cell_type": "code",
   "execution_count": null,
   "metadata": {},
   "outputs": [],
   "source": []
  }
 ],
 "metadata": {
  "kernelspec": {
   "display_name": "Python 3",
   "language": "python",
   "name": "python3"
  },
  "language_info": {
   "codemirror_mode": {
    "name": "ipython",
    "version": 3
   },
   "file_extension": ".py",
   "mimetype": "text/x-python",
   "name": "python",
   "nbconvert_exporter": "python",
   "pygments_lexer": "ipython3",
   "version": "3.6.9"
  }
 },
 "nbformat": 4,
 "nbformat_minor": 4
}
